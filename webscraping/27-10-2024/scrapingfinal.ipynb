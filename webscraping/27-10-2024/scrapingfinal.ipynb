{
 "cells": [
  {
   "cell_type": "code",
   "execution_count": 1,
   "metadata": {},
   "outputs": [],
   "source": [
    "import requests\n",
    "from bs4 import BeautifulSoup\n",
    "import json\n",
    "import time\n",
    "import re"
   ]
  },
  {
   "cell_type": "code",
   "execution_count": 2,
   "metadata": {},
   "outputs": [],
   "source": [
    "# URL da página principal\n",
    "url = \"https://www.sicredi.com.br/home/\"\n",
    "\n",
    "# Função para extrair o conteúdo de uma página sem os textos dentro das tags <a> e <button>\n",
    "def extrair_conteudo_sem_links_e_botoes(url):\n",
    "    try:\n",
    "        response = requests.get(url)\n",
    "        if response.status_code == 200:\n",
    "            soup = BeautifulSoup(response.content, 'html.parser')\n",
    "            \n",
    "            # Remove todas as tags <a> e <button> do conteúdo\n",
    "            for tag in soup.find_all(['a', 'button']):\n",
    "                tag.decompose()\n",
    "            \n",
    "            # Extrai o texto restante da página\n",
    "            texto = soup.get_text(separator=\"\\n\", strip=True)\n",
    "            \n",
    "            # Remove slogans específicos\n",
    "            texto = re.sub(r\"\\bcom quem contar\\b\", \"\", texto, flags=re.IGNORECASE)\n",
    "            texto = re.sub(r\"\\bseja associado\\b\", \"\", texto, flags=re.IGNORECASE)\n",
    "            \n",
    "            # Remove linhas vazias e retorna o conteúdo limpo\n",
    "            linhas = [linha.strip() for linha in texto.splitlines() if linha.strip()]\n",
    "            return \"\\n\".join(linhas)\n",
    "        else:\n",
    "            print(f\"Erro ao acessar {url}. Status code: {response.status_code}\")\n",
    "            return None\n",
    "    except Exception as e:\n",
    "        print(f\"Erro ao processar {url}: {e}\")\n",
    "        return None\n",
    "\n",
    "# Função para coletar todos os links de uma página\n",
    "def coletar_links(url):\n",
    "    try:\n",
    "        response = requests.get(url)\n",
    "        if response.status_code == 200:\n",
    "            soup = BeautifulSoup(response.content, 'html.parser')\n",
    "            links = [a['href'] for a in soup.find_all('a', href=True)]\n",
    "            links_completos = [link for link in links if link.startswith('http')]\n",
    "            return list(set(links_completos))  # Remove URLs duplicadas\n",
    "        else:\n",
    "            print(f\"Erro ao acessar {url}. Status code: {response.status_code}\")\n",
    "            return []\n",
    "    except Exception as e:\n",
    "        print(f\"Erro ao processar {url}: {e}\")\n",
    "        return []\n",
    "\n",
    "# Função principal para coletar dados de todas as páginas\n",
    "def coletar_dados_pagina_principal(url):\n",
    "    links = coletar_links(url)\n",
    "    print(f\"Encontrados {len(links)} links únicos na página principal.\")\n",
    "\n",
    "    conteudos_unicos = {}  # Dicionário para armazenar conteúdos únicos por URL\n",
    "    for link in links:\n",
    "        print(f\"Acessando: {link}\")\n",
    "        conteudo = extrair_conteudo_sem_links_e_botoes(link)\n",
    "        new_links = coletar_links(link)\n",
    "        if new_links:\n",
    "            print(f\"Encontrados {len(new_links)} links na página {link}.\")\n",
    "            links.extend(new_links)\n",
    "            links = list(set(links))\n",
    "        if conteudo and conteudo not in conteudos_unicos.values():  # Verifica se o conteúdo já existe\n",
    "            conteudos_unicos[link] = conteudo\n",
    "        time.sleep(2)\n",
    "\n",
    "    # Salvar os dados em um arquivo JSON\n",
    "    dados = [{'url': url, 'conteudo': conteudo} for url, conteudo in conteudos_unicos.items()]\n",
    "    with open('conteudo_paginas_sem_links.json', 'w', encoding='utf-8') as file:\n",
    "        json.dump(dados, file, ensure_ascii=False, indent=4)\n",
    "\n",
    "    print(\"Dados tratados e salvos com sucesso!\")\n"
   ]
  },
  {
   "cell_type": "code",
   "execution_count": 3,
   "metadata": {},
   "outputs": [
    {
     "name": "stdout",
     "output_type": "stream",
     "text": [
      "Encontrados 95 links únicos na página principal.\n",
      "Acessando: https://www.youtube.com/user/sicredioficial\n",
      "Encontrados 8 links na página https://www.youtube.com/user/sicredioficial.\n",
      "Acessando: https://www.sicredi.com.br/site/sobre-nos/cooperativismo/\n",
      "Encontrados 89 links na página https://www.sicredi.com.br/site/sobre-nos/cooperativismo/.\n",
      "Acessando: https://www.sicredi.com.br/site/shopping-do-sicredi/\n",
      "Encontrados 88 links na página https://www.sicredi.com.br/site/shopping-do-sicredi/.\n",
      "Acessando: https://contatoseguro.com.br/sicredi\n",
      "Encontrados 5 links na página https://contatoseguro.com.br/sicredi.\n"
     ]
    },
    {
     "ename": "KeyboardInterrupt",
     "evalue": "",
     "output_type": "error",
     "traceback": [
      "\u001b[1;31m---------------------------------------------------------------------------\u001b[0m",
      "\u001b[1;31mKeyboardInterrupt\u001b[0m                         Traceback (most recent call last)",
      "Cell \u001b[1;32mIn[3], line 2\u001b[0m\n\u001b[0;32m      1\u001b[0m \u001b[38;5;66;03m# Chama a função principal\u001b[39;00m\n\u001b[1;32m----> 2\u001b[0m \u001b[43mcoletar_dados_pagina_principal\u001b[49m\u001b[43m(\u001b[49m\u001b[43murl\u001b[49m\u001b[43m)\u001b[49m\n",
      "Cell \u001b[1;32mIn[2], line 64\u001b[0m, in \u001b[0;36mcoletar_dados_pagina_principal\u001b[1;34m(url)\u001b[0m\n\u001b[0;32m     62\u001b[0m     \u001b[38;5;28;01mif\u001b[39;00m conteudo \u001b[38;5;129;01mand\u001b[39;00m conteudo \u001b[38;5;129;01mnot\u001b[39;00m \u001b[38;5;129;01min\u001b[39;00m conteudos_unicos\u001b[38;5;241m.\u001b[39mvalues():  \u001b[38;5;66;03m# Verifica se o conteúdo já existe\u001b[39;00m\n\u001b[0;32m     63\u001b[0m         conteudos_unicos[link] \u001b[38;5;241m=\u001b[39m conteudo\n\u001b[1;32m---> 64\u001b[0m     \u001b[43mtime\u001b[49m\u001b[38;5;241;43m.\u001b[39;49m\u001b[43msleep\u001b[49m\u001b[43m(\u001b[49m\u001b[38;5;241;43m2\u001b[39;49m\u001b[43m)\u001b[49m\n\u001b[0;32m     66\u001b[0m \u001b[38;5;66;03m# Salvar os dados em um arquivo JSON\u001b[39;00m\n\u001b[0;32m     67\u001b[0m dados \u001b[38;5;241m=\u001b[39m [{\u001b[38;5;124m'\u001b[39m\u001b[38;5;124murl\u001b[39m\u001b[38;5;124m'\u001b[39m: url, \u001b[38;5;124m'\u001b[39m\u001b[38;5;124mconteudo\u001b[39m\u001b[38;5;124m'\u001b[39m: conteudo} \u001b[38;5;28;01mfor\u001b[39;00m url, conteudo \u001b[38;5;129;01min\u001b[39;00m conteudos_unicos\u001b[38;5;241m.\u001b[39mitems()]\n",
      "\u001b[1;31mKeyboardInterrupt\u001b[0m: "
     ]
    }
   ],
   "source": [
    "# Chama a função principal\n",
    "coletar_dados_pagina_principal(url)"
   ]
  }
 ],
 "metadata": {
  "kernelspec": {
   "display_name": "Python 3",
   "language": "python",
   "name": "python3"
  },
  "language_info": {
   "codemirror_mode": {
    "name": "ipython",
    "version": 3
   },
   "file_extension": ".py",
   "mimetype": "text/x-python",
   "name": "python",
   "nbconvert_exporter": "python",
   "pygments_lexer": "ipython3",
   "version": "3.12.1"
  }
 },
 "nbformat": 4,
 "nbformat_minor": 2
}
